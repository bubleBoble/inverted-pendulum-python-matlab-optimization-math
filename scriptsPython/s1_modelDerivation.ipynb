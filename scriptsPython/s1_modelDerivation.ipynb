{
 "cells": [
  {
   "cell_type": "code",
   "execution_count": 1,
   "metadata": {},
   "outputs": [],
   "source": [
    "# notebook to html\n",
    "# ! echo jupyter nbconvert --to html --TemplateExporter.exclude_input=True  .\\o4_modele_do_symulacji.ipynb"
   ]
  },
  {
   "cell_type": "markdown",
   "metadata": {},
   "source": [
    "# <b> Inverted pendulum on a cart model derivation"
   ]
  },
  {
   "cell_type": "markdown",
   "metadata": {},
   "source": [
    "<img src=\"./fig_ip_diagram.jpg\" alt=\"Alternative text\" width=\"600\"/>"
   ]
  },
  {
   "cell_type": "code",
   "execution_count": 2,
   "metadata": {
    "jupyter": {
     "source_hidden": true
    },
    "tags": []
   },
   "outputs": [],
   "source": [
    "from IPython.display import display as disp\n",
    "from IPython.display import Math as math\n",
    "\n",
    "import numpy as np\n",
    "from sympy import symbols, cos, sin\n",
    "import sympy as smp\n",
    "from scipy.integrate import odeint\n",
    "import matplotlib.pyplot as plt\n",
    "\n",
    "# sympy.physics : https://stackoverflow.com/questions/25346132/is-it-possible-to-implement-newtons-dot-notation-or-lagranges-prime-notation\n",
    "# Newtown notation for derivatives (dot notation)\n",
    "from sympy.physics.mechanics import dynamicsymbols, init_vprinting\n",
    "\n",
    "init_vprinting() \n",
    "\n",
    "# Implicitly creates r, d as functions of time\n",
    "# a, b = dynamicsymbols('r d')    \n",
    "\n",
    "from sympy import print_latex\n",
    "\n",
    "from IPython.display import Markdown as md"
   ]
  },
  {
   "cell_type": "code",
   "execution_count": 3,
   "metadata": {
    "tags": []
   },
   "outputs": [],
   "source": [
    "m, M, gamma, b, g, Jcm, L = symbols('m M gamma b g J_{cm} L')\n",
    "t = symbols('t')\n",
    "\n",
    "xw, Fi = symbols('x_{w} F_{i}', cls=smp.Function)\n",
    "theta = symbols('theta', cls=smp.Function)\n",
    "\n",
    "d = smp.symbols('d', cls=smp.Symbol)\n",
    "\n",
    "xw = xw(t)\n",
    "Fi = Fi(t)\n",
    "theta = theta(t)\n",
    "\n",
    "Rx, Ry = symbols('R_x R_y')\n",
    "\n",
    "Dxw = xw.diff(t, 1)\n",
    "DDxw = xw.diff(t, 2)"
   ]
  },
  {
   "cell_type": "markdown",
   "metadata": {},
   "source": [
    "### <b> Forces for a cart\n",
    "$M\\ddot{x} = F_i - F_f - R_x$"
   ]
  },
  {
   "cell_type": "code",
   "execution_count": 4,
   "metadata": {
    "tags": []
   },
   "outputs": [],
   "source": [
    "# friction force symbol\n",
    "Ff = smp.symbols('F_f')"
   ]
  },
  {
   "cell_type": "code",
   "execution_count": 5,
   "metadata": {
    "collapsed": true,
    "jupyter": {
     "outputs_hidden": true
    },
    "tags": []
   },
   "outputs": [
    {
     "data": {
      "image/png": "[encoded data removed]",
      "text/latex": [
       "$\\displaystyle M \\ddot{x}_{w} = - F_{f} - R_{x} + F_{i}$"
      ],
      "text/plain": [
       "M⋅x_{̈w} = -F_f - Rₓ + F_{i}"
      ]
     },
     "metadata": {},
     "output_type": "display_data"
    }
   ],
   "source": [
    "lhs = M*DDxw\n",
    "rhs = Fi - Ff - Rx\n",
    "f_trolley_eq = smp.Eq(lhs=lhs, rhs=rhs)\n",
    "disp(f_trolley_eq)"
   ]
  },
  {
   "cell_type": "markdown",
   "metadata": {},
   "source": [
    "### <b> Center of mass for pendulum arm\n",
    "$P_{cm} = (x_{cm}, y_{cm})$\\\n",
    "$x_{cm} = x + L\\sin(\\theta)$\\\n",
    "$y_{cm} = L\\cos(\\theta)$"
   ]
  },
  {
   "cell_type": "code",
   "execution_count": 6,
   "metadata": {
    "tags": []
   },
   "outputs": [
    {
     "data": {
      "image/png": "[encoded data removed]",
      "text/latex": [
       "$\\displaystyle x_{cm} = L \\sin{\\left(\\theta \\right)} + x_{w}$"
      ],
      "text/plain": [
       "x_{cm} = L⋅sin(θ) + x_{w}"
      ]
     },
     "metadata": {},
     "output_type": "display_data"
    },
    {
     "data": {
      "image/png": "[encoded data removed]",
      "text/latex": [
       "$\\displaystyle y_{cm} = L \\cos{\\left(\\theta \\right)}$"
      ],
      "text/plain": [
       "y_{cm} = L⋅cos(θ)"
      ]
     },
     "metadata": {},
     "output_type": "display_data"
    }
   ],
   "source": [
    "xcm = xw+L*sin(theta)\n",
    "ycm = L*cos(theta)\n",
    "disp(smp.Eq(lhs=smp.Symbol('x_{cm}'),\n",
    "            rhs=xcm))\n",
    "disp(smp.Eq(lhs=smp.Symbol('y_{cm}'),\n",
    "            rhs=ycm))"
   ]
  },
  {
   "cell_type": "markdown",
   "metadata": {
    "tags": []
   },
   "source": [
    "### <b> Forces for pendulum arm\n",
    "$m\\ddot{x}_{cm} = R_x + d\\cos(\\theta)$\\\n",
    "$m\\ddot{y}_{cm} = R_y - d\\sin(\\theta) - mg$\n"
   ]
  },
  {
   "cell_type": "code",
   "execution_count": 7,
   "metadata": {
    "tags": []
   },
   "outputs": [
    {
     "data": {
      "image/png": "[encoded data removed]",
      "text/latex": [
       "$\\displaystyle R_{x} = - L m \\sin{\\left(\\theta \\right)} \\dot{\\theta}^{2} + L m \\cos{\\left(\\theta \\right)} \\ddot{\\theta} - d \\cos{\\left(\\theta \\right)} + m \\ddot{x}_{w}$"
      ],
      "text/plain": [
       "                   2                                    \n",
       "Rₓ = - L⋅m⋅sin(θ)⋅θ̇  + L⋅m⋅cos(θ)⋅θ̈ - d⋅cos(θ) + m⋅x_{̈w}"
      ]
     },
     "metadata": {},
     "output_type": "display_data"
    },
    {
     "data": {
      "image/png": "[encoded data removed]",
      "text/latex": [
       "$\\displaystyle R_{y} = - L m \\sin{\\left(\\theta \\right)} \\ddot{\\theta} - L m \\cos{\\left(\\theta \\right)} \\dot{\\theta}^{2} + d \\sin{\\left(\\theta \\right)} + g m$"
      ],
      "text/plain": [
       "                                  2                 \n",
       "R_y = -L⋅m⋅sin(θ)⋅θ̈ - L⋅m⋅cos(θ)⋅θ̇  + d⋅sin(θ) + g⋅m"
      ]
     },
     "metadata": {},
     "output_type": "display_data"
    }
   ],
   "source": [
    "Dxcm = xcm.diff(t, 1)\n",
    "DDxcm = xcm.diff(t, 2)\n",
    "DDycm = ycm.diff(t, 2)\n",
    "\n",
    "Rx_expression = m * DDxcm - d*cos(theta)\n",
    "Ry_expression = m * DDycm + m*g + d*sin(theta)\n",
    "\n",
    "disp(smp.Eq(Rx, Rx_expression).doit().expand())\n",
    "disp(smp.Eq(Ry, Ry_expression).doit().expand())\n"
   ]
  },
  {
   "cell_type": "markdown",
   "metadata": {
    "tags": []
   },
   "source": [
    "### <b> Torques for pendulum arm around its center of mass\n",
    "$J_{cm}\\ddot{\\theta} = LR_y\\sin(\\theta) - LR_x\\cos(\\theta) - \\gamma\\ddot{\\theta} + dL$"
   ]
  },
  {
   "cell_type": "code",
   "execution_count": 8,
   "metadata": {
    "tags": []
   },
   "outputs": [
    {
     "data": {
      "image/png": "[encoded data removed]",
      "text/latex": [
       "$\\displaystyle J_{cm} \\ddot{\\theta} = - L R_{x} \\cos{\\left(\\theta \\right)} + L R_{y} \\sin{\\left(\\theta \\right)} + L d - \\gamma \\dot{\\theta}$"
      ],
      "text/plain": [
       "J_{cm}⋅θ̈ = -L⋅Rₓ⋅cos(θ) + L⋅R_y⋅sin(θ) + L⋅d - γ⋅θ̇"
      ]
     },
     "execution_count": 8,
     "metadata": {},
     "output_type": "execute_result"
    }
   ],
   "source": [
    "Dtheta = theta.diff(t, 1)\n",
    "DDtheta = theta.diff(t, 2)\n",
    "\n",
    "lhs = Jcm*DDtheta\n",
    "rhs = L*Ry*sin(theta) - L*Rx*cos(theta) - gamma*Dtheta + d*L\n",
    "bilans_momentow = smp.Eq(lhs=lhs, rhs=rhs)\n",
    "bilans_momentow"
   ]
  },
  {
   "cell_type": "code",
   "execution_count": 9,
   "metadata": {
    "tags": []
   },
   "outputs": [
    {
     "name": "stdout",
     "output_type": "stream",
     "text": [
      "1. f_trolley_eq\n",
      "----------------------------------------------------------------------\n"
     ]
    },
    {
     "data": {
      "image/png": "[encoded data removed]",
      "text/latex": [
       "$\\displaystyle M \\ddot{x}_{w} = - F_{f} - R_{x} + F_{i}$"
      ],
      "text/plain": [
       "M⋅x_{̈w} = -F_f - Rₓ + F_{i}"
      ]
     },
     "metadata": {},
     "output_type": "display_data"
    },
    {
     "name": "stdout",
     "output_type": "stream",
     "text": [
      "2. bilans_momentow\n",
      "----------------------------------------------------------------------\n"
     ]
    },
    {
     "data": {
      "image/png": "[encoded data removed]",
      "text/latex": [
       "$\\displaystyle J_{cm} \\ddot{\\theta} = - L R_{x} \\cos{\\left(\\theta \\right)} + L R_{y} \\sin{\\left(\\theta \\right)} + L d - \\gamma \\dot{\\theta}$"
      ],
      "text/plain": [
       "J_{cm}⋅θ̈ = -L⋅Rₓ⋅cos(θ) + L⋅R_y⋅sin(θ) + L⋅d - γ⋅θ̇"
      ]
     },
     "metadata": {},
     "output_type": "display_data"
    },
    {
     "name": "stdout",
     "output_type": "stream",
     "text": [
      "3. Rx_expression, Ry_expression\n",
      "----------------------------------------------------------------------\n"
     ]
    },
    {
     "data": {
      "image/png": "[encoded data removed]",
      "text/latex": [
       "$\\displaystyle R_{x} = - d \\cos{\\left(\\theta \\right)} + m \\left(- L \\sin{\\left(\\theta \\right)} \\dot{\\theta}^{2} + L \\cos{\\left(\\theta \\right)} \\ddot{\\theta} + \\ddot{x}_{w}\\right)$"
      ],
      "text/plain": [
       "                   ⎛            2                     ⎞\n",
       "Rₓ = -d⋅cos(θ) + m⋅⎝- L⋅sin(θ)⋅θ̇  + L⋅cos(θ)⋅θ̈ + x_{̈w}⎠"
      ]
     },
     "metadata": {},
     "output_type": "display_data"
    },
    {
     "data": {
      "image/png": "[encoded data removed]",
      "text/latex": [
       "$\\displaystyle R_{y} = - L m \\left(\\sin{\\left(\\theta \\right)} \\ddot{\\theta} + \\cos{\\left(\\theta \\right)} \\dot{\\theta}^{2}\\right) + d \\sin{\\left(\\theta \\right)} + g m$"
      ],
      "text/plain": [
       "            ⎛                   2⎞                 \n",
       "R_y = - L⋅m⋅⎝sin(θ)⋅θ̈ + cos(θ)⋅θ̇ ⎠ + d⋅sin(θ) + g⋅m"
      ]
     },
     "metadata": {},
     "output_type": "display_data"
    }
   ],
   "source": [
    "print('1. f_trolley_eq') \n",
    "print('----------------------------------------------------------------------')\n",
    "f_trolley_eq = f_trolley_eq.expand()\n",
    "disp(f_trolley_eq)\n",
    "print('2. bilans_momentow')\n",
    "print('----------------------------------------------------------------------')\n",
    "bilans_momentow = bilans_momentow.expand()\n",
    "disp(bilans_momentow)\n",
    "print('3. Rx_expression, Ry_expression')\n",
    "print('----------------------------------------------------------------------')\n",
    "disp(smp.Eq(Rx, Rx_expression))\n",
    "disp(smp.Eq(Ry, Ry_expression))"
   ]
  },
  {
   "cell_type": "code",
   "execution_count": 10,
   "metadata": {
    "tags": []
   },
   "outputs": [
    {
     "data": {
      "image/png": "[encoded data removed]",
      "text/latex": [
       "$\\displaystyle M \\ddot{x}_{w} = - F_{f} + L m \\sin{\\left(\\theta \\right)} \\dot{\\theta}^{2} - L m \\cos{\\left(\\theta \\right)} \\ddot{\\theta} + d \\cos{\\left(\\theta \\right)} - m \\ddot{x}_{w} + F_{i}$"
      ],
      "text/plain": [
       "                             2                                            \n",
       "M⋅x_{̈w} = -F_f + L⋅m⋅sin(θ)⋅θ̇  - L⋅m⋅cos(θ)⋅θ̈ + d⋅cos(θ) - m⋅x_{̈w} + F_{i}"
      ]
     },
     "metadata": {},
     "output_type": "display_data"
    },
    {
     "data": {
      "image/png": "[encoded data removed]",
      "text/latex": [
       "$\\displaystyle J_{cm} \\ddot{\\theta} = - L^{2} m \\ddot{\\theta} + 2 L d + L g m \\sin{\\left(\\theta \\right)} - L m \\cos{\\left(\\theta \\right)} \\ddot{x}_{w} - \\gamma \\dot{\\theta}$"
      ],
      "text/plain": [
       "              2                                                    \n",
       "J_{cm}⋅θ̈ = - L ⋅m⋅θ̈ + 2⋅L⋅d + L⋅g⋅m⋅sin(θ) - L⋅m⋅cos(θ)⋅x_{̈w} - γ⋅θ̇"
      ]
     },
     "metadata": {},
     "output_type": "display_data"
    }
   ],
   "source": [
    "f_trolley_eq = f_trolley_eq.subs([(Rx, Rx_expression),\n",
    "                                  (Ry, Ry_expression)])\n",
    "disp(f_trolley_eq.expand())\n",
    "bilans_momentow = bilans_momentow.subs([(Rx, Rx_expression),\n",
    "                                        (Ry, Ry_expression)])\n",
    "disp(bilans_momentow.simplify().expand())\n"
   ]
  },
  {
   "cell_type": "markdown",
   "metadata": {},
   "source": [
    "### <b> Results\n",
    "\n",
    "\\begin{equation}\n",
    "    (M + m) \\ddot{x}_{w} + Lmcos(\\theta)\\ddot{\\theta} + F_f -Lm\\sin(\\theta)\\dot{\\theta}^2 \n",
    "    -F_i - d\\cos(\\theta) = 0\n",
    "\\end{equation}\n",
    "\n",
    "\\begin{equation}\n",
    "    (J_{cm} + mL^2)\\ddot{\\theta} + mL\\cos(\\theta)\\ddot{x}_{w} + \\gamma\\dot{\\theta} - mgL\\sin(\\theta)\n",
    "    + 2Ld = 0\n",
    "\\end{equation}"
   ]
  },
  {
   "cell_type": "markdown",
   "metadata": {},
   "source": [
    "$$\\boldsymbol{F}(\\ddot{x}_{w}, \\dot{x}_{w}, \\ddot{\\theta}, \\dot{\\theta}, \\theta, F_i, d) = 0$$\n",
    "$$F_f = F_f(\\dot{x}_{w})$$"
   ]
  },
  {
   "cell_type": "markdown",
   "metadata": {},
   "source": [
    "\n",
    "\\begin{equation}\n",
    "    \\begin{split}\n",
    "        & M_t = M+m \\\\\n",
    "        & J_t = J_{cm} + mL^2 \\\\\n",
    "        & J_{cm} = \\frac{1}{12} m L^2\\\\\n",
    "    \\end{split}\n",
    "\\end{equation}"
   ]
  },
  {
   "cell_type": "markdown",
   "metadata": {},
   "source": [
    "    \n",
    "\\begin{equation}\n",
    "    \\begin{bmatrix}\n",
    "        M_t & mL\\cos(\\theta)\\\\\n",
    "        mL\\cos(\\theta) & J_t \n",
    "    \\end{bmatrix}\n",
    "    \\begin{bmatrix}\n",
    "        \\ddot{x}_{w}\\\\\n",
    "        \\ddot{\\theta}\n",
    "    \\end{bmatrix}\n",
    "    +\n",
    "    \\begin{bmatrix}\n",
    "        F_f - Lm\\sin(\\theta)\\dot{\\theta}^2\\\\\n",
    "        \\gamma\\dot{\\theta} - m g L\\sin(\\theta)\n",
    "    \\end{bmatrix}\n",
    "    +\n",
    "    \\begin{bmatrix}\n",
    "        -F_i\\\\\n",
    "        0\n",
    "    \\end{bmatrix}\n",
    "    +\n",
    "    \\begin{bmatrix}\n",
    "        -d\\cos(\\theta)\\\\\n",
    "        -2Ld\n",
    "    \\end{bmatrix}\n",
    "    =\n",
    "    0\n",
    "\\end{equation}"
   ]
  },
  {
   "cell_type": "markdown",
   "metadata": {},
   "source": [
    "\n",
    "\\begin{equation}\n",
    "    a_1 a_2 + a_3 + a_4 + a_5 = 0\n",
    "\\end{equation}"
   ]
  },
  {
   "cell_type": "markdown",
   "metadata": {},
   "source": [
    "\\begin{equation}\n",
    "    \\begin{bmatrix}\n",
    "        \\ddot{x}_{\\mathrm{w}}\\\\\n",
    "        \\ddot{\\theta}\n",
    "    \\end{bmatrix}\n",
    "    =\n",
    "    a_2\n",
    "    =\n",
    "    -a_1^{-1}\n",
    "    \\left(\n",
    "    a_3+a_4+a_5\n",
    "    \\right)\n",
    "\\end{equation}"
   ]
  },
  {
   "cell_type": "code",
   "execution_count": 11,
   "metadata": {},
   "outputs": [],
   "source": [
    "Mt, Jt, mr, L, g, gamma, d, Ff = smp.symbols('M_t J_t m L g gamma d F_f')\n",
    "t = smp.symbols('t')\n",
    "the, xw, Fi = smp.symbols('theta x_w F_i', cls=smp.Function)\n",
    "\n",
    "the = the(t)\n",
    "xw = xw(t)\n",
    "Fi = Fi(t)\n",
    "\n",
    "Dthe = smp.diff(the, t)\n",
    "DDthe = smp.diff(the, t, 2)\n",
    "Dxw = smp.diff(xw, t)\n",
    "DDxw = smp.diff(xw, t, 2)"
   ]
  },
  {
   "cell_type": "code",
   "execution_count": 12,
   "metadata": {},
   "outputs": [],
   "source": [
    "# equations\n",
    "a1 = smp.Matrix([ \n",
    "    [Mt, m*L*cos(the)],\n",
    "    [m*L*cos(the), Jt]\n",
    "])\n",
    "a2  = smp.Matrix([\n",
    "    [DDxw],\n",
    "    [DDthe]\n",
    "])\n",
    "a3 = smp.Matrix([\n",
    "    [Ff - L*mr*sin(the)*Dthe**2],\n",
    "    [gamma*Dthe - m*g*L*sin(the)]\n",
    "]) \n",
    "a4 = smp.Matrix([\n",
    "    [-Fi],\n",
    "    [0]\n",
    "])\n",
    "a5 = smp.Matrix([\n",
    "    [-d*cos(the)],\n",
    "    [-2*L*d]\n",
    "])\n",
    "\n",
    "# LHS F(...) = 0\n",
    "F = a1*a2 + a3 + a4 + a5"
   ]
  },
  {
   "cell_type": "markdown",
   "metadata": {},
   "source": [
    "### <b> Friction models </b>"
   ]
  },
  {
   "cell_type": "code",
   "execution_count": 13,
   "metadata": {},
   "outputs": [],
   "source": [
    "# Viscous friction\n",
    "b = smp.symbols('b')\n",
    "Ff_visc = b*Dxw\n",
    "\n",
    "# Stribeck friction\n",
    "uc, us, vs, i = smp.symbols('mu_c mu_s v_s i')\n",
    "Ff_strib_sign = (uc + (us - uc) * smp.exp(-(Dxw/vs)**2)) * Mt*g * smp.sign(Dxw) + b*Dxw\n",
    "\n",
    "# stribeck friction, sign(Dx) -> tanh(600*Dx)\n",
    "uc, us, vs, i = smp.symbols('mu_c mu_s v_s i')\n",
    "Ff_strib_tanh = (uc + (us - uc) * smp.exp(-(Dxw/vs)**2)) * Mt*g * smp.tanh(600*Dxw) + b*Dxw"
   ]
  },
  {
   "cell_type": "code",
   "execution_count": 14,
   "metadata": {},
   "outputs": [
    {
     "data": {
      "image/png": "[encoded data removed]",
      "text/latex": [
       "$\\displaystyle M_{t} g \\left(\\mu_{c} + \\left(- \\mu_{c} + \\mu_{s}\\right) e^{- \\frac{\\dot{x}_{w}^{2}}{v_{s}^{2}}}\\right) \\tanh{\\left(600 \\dot{x}_{w} \\right)} + b \\dot{x}_{w}$"
      ],
      "text/plain": [
       "     ⎛                       2 ⎞                      \n",
       "     ⎜                   -x_̇w  ⎟                      \n",
       "     ⎜                   ──────⎟                      \n",
       "     ⎜                      2  ⎟                      \n",
       "     ⎜                    vₛ   ⎟                      \n",
       "Mₜ⋅g⋅⎝μ_c + (-μ_c + μₛ)⋅ℯ      ⎠⋅tanh(600⋅x_̇w) + b⋅x_̇w"
      ]
     },
     "execution_count": 14,
     "metadata": {},
     "output_type": "execute_result"
    }
   ],
   "source": [
    "Ff_strib_tanh"
   ]
  },
  {
   "cell_type": "markdown",
   "metadata": {},
   "source": [
    "### <b> State space representation"
   ]
  },
  {
   "cell_type": "code",
   "execution_count": 15,
   "metadata": {},
   "outputs": [],
   "source": [
    "DDxw_ss, DDthe_ss = a1.inv() * (-a3 - a4 - a5)\n",
    "DDxw_ss = DDxw_ss.simplify()\n",
    "DDthe_ss = DDthe_ss.simplify()"
   ]
  },
  {
   "cell_type": "code",
   "execution_count": 16,
   "metadata": {},
   "outputs": [],
   "source": [
    "x1, x2, x3, x4 = smp.symbols('x_1 x_2 x_3 x_4', cls=smp.Function)\n",
    "x1 = x1(t); x2 = x2(t); x3 = x3(t); x4 = x4(t) "
   ]
  },
  {
   "cell_type": "code",
   "execution_count": 17,
   "metadata": {},
   "outputs": [
    {
     "data": {
      "image/png": "[encoded data removed]",
      "text/latex": [
       "$\\displaystyle \\left[\\begin{matrix}x_{1}\\\\x_{2}\\\\x_{3}\\\\x_{4}\\end{matrix}\\right] = \\left[\\begin{matrix}x_{w}\\\\\\theta\\\\\\dot{x}_{w}\\\\\\dot{\\theta}\\end{matrix}\\right]$"
      ],
      "text/plain": [
       "⎡x₁⎤   ⎡x_w⎤\n",
       "⎢  ⎥   ⎢   ⎥\n",
       "⎢x₂⎥   ⎢ θ ⎥\n",
       "⎢  ⎥ = ⎢   ⎥\n",
       "⎢x₃⎥   ⎢x_̇w⎥\n",
       "⎢  ⎥   ⎢   ⎥\n",
       "⎣x₄⎦   ⎣ θ̇ ⎦"
      ]
     },
     "metadata": {},
     "output_type": "display_data"
    },
    {
     "data": {
      "image/png": "[encoded data removed]",
      "text/latex": [
       "$\\displaystyle \\left[\\begin{matrix}\\dot{x}_{w}\\\\\\dot{\\theta}\\\\\\ddot{x}_{w}\\\\\\ddot{\\theta}\\end{matrix}\\right] = \\left[\\begin{matrix}\\dot{x}_{w}\\\\\\dot{\\theta}\\\\\\frac{J_{t} \\left(- F_{f} + L m \\sin{\\left(\\theta \\right)} \\dot{\\theta}^{2} + d \\cos{\\left(\\theta \\right)} + F_{i}\\right) - L m \\left(2 L d + L g m \\sin{\\left(\\theta \\right)} - \\gamma \\dot{\\theta}\\right) \\cos{\\left(\\theta \\right)}}{J_{t} M_{t} - L^{2} m^{2} \\cos^{2}{\\left(\\theta \\right)}}\\\\\\frac{- L m \\left(- F_{f} + L m \\sin{\\left(\\theta \\right)} \\dot{\\theta}^{2} + d \\cos{\\left(\\theta \\right)} + F_{i}\\right) \\cos{\\left(\\theta \\right)} + M_{t} \\left(2 L d + L g m \\sin{\\left(\\theta \\right)} - \\gamma \\dot{\\theta}\\right)}{J_{t} M_{t} - L^{2} m^{2} \\cos^{2}{\\left(\\theta \\right)}}\\end{matrix}\\right]$"
      ],
      "text/plain": [
       "        ⎡                                         x_̇w                        \n",
       "        ⎢                                                                     \n",
       "        ⎢                                          θ̇                         \n",
       "        ⎢                                                                     \n",
       "⎡x_̇w⎤   ⎢    ⎛                   2                ⎞                          \n",
       "⎢   ⎥   ⎢ Jₜ⋅⎝-F_f + L⋅m⋅sin(θ)⋅θ̇  + d⋅cos(θ) + Fᵢ⎠ - L⋅m⋅(2⋅L⋅d + L⋅g⋅m⋅sin(\n",
       "⎢ θ̇ ⎥   ⎢ ───────────────────────────────────────────────────────────────────\n",
       "⎢   ⎥ = ⎢                                         2  2    2                   \n",
       "⎢x_̈w⎥   ⎢                                Jₜ⋅Mₜ - L ⋅m ⋅cos (θ)               \n",
       "⎢   ⎥   ⎢                                                                     \n",
       "⎣ θ̈ ⎦   ⎢      ⎛                   2                ⎞                        \n",
       "        ⎢- L⋅m⋅⎝-F_f + L⋅m⋅sin(θ)⋅θ̇  + d⋅cos(θ) + Fᵢ⎠⋅cos(θ) + Mₜ⋅(2⋅L⋅d + L⋅\n",
       "        ⎢─────────────────────────────────────────────────────────────────────\n",
       "        ⎢                                         2  2    2                   \n",
       "        ⎣                                Jₜ⋅Mₜ - L ⋅m ⋅cos (θ)                \n",
       "\n",
       "                 ⎤\n",
       "                ⎥\n",
       "                 ⎥\n",
       "                ⎥\n",
       "                 ⎥\n",
       "θ) - γ⋅θ̇)⋅cos(θ) ⎥\n",
       "──────────────── ⎥\n",
       "                ⎥\n",
       "                 ⎥\n",
       "                ⎥\n",
       "                 ⎥\n",
       "g⋅m⋅sin(θ) - γ⋅θ̇)⎥\n",
       "────────────────⎥\n",
       "                ⎥\n",
       "                ⎦"
      ]
     },
     "metadata": {},
     "output_type": "display_data"
    },
    {
     "data": {
      "image/png": "[encoded data removed]",
      "text/latex": [
       "$\\displaystyle \\ddot{x}_{w} = \\frac{J_{t} \\left(- F_{f} + L m \\sin{\\left(\\theta \\right)} \\dot{\\theta}^{2} + d \\cos{\\left(\\theta \\right)} + F_{i}\\right) - L m \\left(2 L d + L g m \\sin{\\left(\\theta \\right)} - \\gamma \\dot{\\theta}\\right) \\cos{\\left(\\theta \\right)}}{J_{t} M_{t} - L^{2} m^{2} \\cos^{2}{\\left(\\theta \\right)}}$"
      ],
      "text/plain": [
       "         ⎛                   2                ⎞                               \n",
       "      Jₜ⋅⎝-F_f + L⋅m⋅sin(θ)⋅θ̇  + d⋅cos(θ) + Fᵢ⎠ - L⋅m⋅(2⋅L⋅d + L⋅g⋅m⋅sin(θ) -\n",
       "x_̈w = ───────────────────────────────────────────────────────────────────────\n",
       "                                              2  2    2                       \n",
       "                                     Jₜ⋅Mₜ - L ⋅m ⋅cos (θ)                    \n",
       "\n",
       "           \n",
       " γ⋅θ̇)⋅cos(θ)\n",
       "────────────\n",
       "           \n",
       "           "
      ]
     },
     "metadata": {},
     "output_type": "display_data"
    },
    {
     "data": {
      "image/png": "[encoded data removed]",
      "text/latex": [
       "$\\displaystyle \\ddot{\\theta} = \\frac{- L m \\left(- F_{f} + L m \\sin{\\left(\\theta \\right)} \\dot{\\theta}^{2} + d \\cos{\\left(\\theta \\right)} + F_{i}\\right) \\cos{\\left(\\theta \\right)} + M_{t} \\left(2 L d + L g m \\sin{\\left(\\theta \\right)} - \\gamma \\dot{\\theta}\\right)}{J_{t} M_{t} - L^{2} m^{2} \\cos^{2}{\\left(\\theta \\right)}}$"
      ],
      "text/plain": [
       "          ⎛                   2                ⎞                              \n",
       "    - L⋅m⋅⎝-F_f + L⋅m⋅sin(θ)⋅θ̇  + d⋅cos(θ) + Fᵢ⎠⋅cos(θ) + Mₜ⋅(2⋅L⋅d + L⋅g⋅m⋅s\n",
       "θ̈ = ─────────────────────────────────────────────────────────────────────────\n",
       "                                             2  2    2                        \n",
       "                                    Jₜ⋅Mₜ - L ⋅m ⋅cos (θ)                     \n",
       "\n",
       "           \n",
       "in(θ) - γ⋅θ̇)\n",
       "────────────\n",
       "           \n",
       "           "
      ]
     },
     "metadata": {},
     "output_type": "display_data"
    },
    {
     "data": {
      "image/png": "[encoded data removed]",
      "text/latex": [
       "$\\displaystyle \\left[\\begin{matrix}x_{3}\\\\x_{4}\\\\\\frac{J_{t} \\left(- F_{f} + L m x_{4}^{2} \\sin{\\left(x_{2} \\right)} + d \\cos{\\left(x_{2} \\right)} + F_{i}\\right) - L m \\left(2 L d + L g m \\sin{\\left(x_{2} \\right)} - \\gamma x_{4}\\right) \\cos{\\left(x_{2} \\right)}}{J_{t} M_{t} - L^{2} m^{2} \\cos^{2}{\\left(x_{2} \\right)}}\\\\\\frac{- L m \\left(- F_{f} + L m x_{4}^{2} \\sin{\\left(x_{2} \\right)} + d \\cos{\\left(x_{2} \\right)} + F_{i}\\right) \\cos{\\left(x_{2} \\right)} + M_{t} \\left(2 L d + L g m \\sin{\\left(x_{2} \\right)} - \\gamma x_{4}\\right)}{J_{t} M_{t} - L^{2} m^{2} \\cos^{2}{\\left(x_{2} \\right)}}\\end{matrix}\\right]$"
      ],
      "text/plain": [
       "⎡                                            x₃                               \n",
       "⎢                                                                             \n",
       "⎢                                            x₄                               \n",
       "⎢                                                                             \n",
       "⎢    ⎛             2                         ⎞                                \n",
       "⎢ Jₜ⋅⎝-F_f + L⋅m⋅x₄ ⋅sin(x₂) + d⋅cos(x₂) + Fᵢ⎠ - L⋅m⋅(2⋅L⋅d + L⋅g⋅m⋅sin(x₂) - \n",
       "⎢ ────────────────────────────────────────────────────────────────────────────\n",
       "⎢                                            2  2    2                        \n",
       "⎢                                   Jₜ⋅Mₜ - L ⋅m ⋅cos (x₂)                    \n",
       "⎢                                                                             \n",
       "⎢      ⎛             2                         ⎞                              \n",
       "⎢- L⋅m⋅⎝-F_f + L⋅m⋅x₄ ⋅sin(x₂) + d⋅cos(x₂) + Fᵢ⎠⋅cos(x₂) + Mₜ⋅(2⋅L⋅d + L⋅g⋅m⋅s\n",
       "⎢─────────────────────────────────────────────────────────────────────────────\n",
       "⎢                                            2  2    2                        \n",
       "⎣                                   Jₜ⋅Mₜ - L ⋅m ⋅cos (x₂)                    \n",
       "\n",
       "              ⎤\n",
       "              ⎥\n",
       "              ⎥\n",
       "              ⎥\n",
       "              ⎥\n",
       "γ⋅x₄)⋅cos(x₂) ⎥\n",
       "───────────── ⎥\n",
       "              ⎥\n",
       "              ⎥\n",
       "              ⎥\n",
       "              ⎥\n",
       "in(x₂) - γ⋅x₄)⎥\n",
       "──────────────⎥\n",
       "              ⎥\n",
       "              ⎦"
      ]
     },
     "metadata": {},
     "output_type": "display_data"
    }
   ],
   "source": [
    "# state vector, x1 x2 x3 x4\n",
    "state_vec = smp.Matrix([\n",
    "    [x1],\n",
    "    [x2],\n",
    "    [x3],\n",
    "    [x4]\n",
    "])\n",
    "# state vector, x theta ...\n",
    "state_vec_noraml = smp.Matrix([\n",
    "    [xw],\n",
    "    [the],\n",
    "    [Dxw],\n",
    "    [Dthe]\n",
    "])\n",
    "disp(\n",
    "    smp.Eq(state_vec, state_vec_noraml)\n",
    ")\n",
    "state_vec_diff = state_vec.diff(t)\n",
    "state_vec_noraml_diff = state_vec_noraml.diff(t)\n",
    "state_equations_normal = smp.Matrix([\n",
    "    [Dxw],\n",
    "    [Dthe],\n",
    "    [DDxw_ss],\n",
    "    [DDthe_ss]\n",
    "])\n",
    "disp(smp.Eq(\n",
    "    state_vec_noraml_diff,\n",
    "    state_equations_normal\n",
    "))\n",
    "disp(smp.Eq(\n",
    "    DDxw, \n",
    "    DDxw_ss\n",
    "))\n",
    "disp(smp.Eq(\n",
    "    DDthe,\n",
    "    DDthe_ss\n",
    "))\n",
    "state_equations = state_equations_normal.subs([(Dxw, x3),\n",
    "                                               (Dthe, x4),\n",
    "                                               (xw, x1),\n",
    "                                               (the, x2)])\n",
    "disp(state_equations)"
   ]
  },
  {
   "cell_type": "code",
   "execution_count": null,
   "metadata": {},
   "outputs": [],
   "source": []
  }
 ],
 "metadata": {
  "kernelspec": {
   "display_name": "systemsKer",
   "language": "python",
   "name": "systems"
  },
  "language_info": {
   "codemirror_mode": {
    "name": "ipython",
    "version": 3
   },
   "file_extension": ".py",
   "mimetype": "text/x-python",
   "name": "python",
   "nbconvert_exporter": "python",
   "pygments_lexer": "ipython3",
   "version": "3.9.16"
  },
  "vscode": {
   "interpreter": {
    "hash": "1a1644aade9e1d826661d79d97f8a96b3be37f68f2e7d0bbeb3d255db6365bb8"
   }
  }
 },
 "nbformat": 4,
 "nbformat_minor": 4
}
